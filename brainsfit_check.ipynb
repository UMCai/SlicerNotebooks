{
 "cells": [
  {
   "cell_type": "code",
   "execution_count": 2,
   "id": "a4bdff69-609a-4204-8719-9a67c9624cc9",
   "metadata": {},
   "outputs": [],
   "source": [
    "import JupyterNotebooksLib as slicernb\n",
    "import slicer\n",
    "\n",
    "# Set viewer size to 50% of screen size\n",
    "slicernb.AppWindow.setWindowSize(scale=0.7)\n",
    "# Hide patient information from slice view\n",
    "slicernb.showSliceViewAnnotations(False)\n"
   ]
  },
  {
   "cell_type": "code",
   "execution_count": 3,
   "id": "5af49893-e96c-487b-aa5d-905047ece350",
   "metadata": {},
   "outputs": [],
   "source": [
    "scene = slicer.mrmlScene\n",
    "slicer.util.selectModule('BRAINSFit')\n",
    "brainsFit = slicer.modules.brainsfit"
   ]
  },
  {
   "cell_type": "code",
   "execution_count": 4,
   "id": "3a5dc444-4678-4168-9ced-6a7a89331945",
   "metadata": {},
   "outputs": [
    {
     "name": "stdout",
     "output_type": "stream",
     "text": [
      "Volume size: (256, 256, 112)\n"
     ]
    }
   ],
   "source": [
    "# Clear scene\n",
    "slicer.mrmlScene.Clear(False)\n",
    "\n",
    "# Load a Slicer sample data set\n",
    "import SampleData\n",
    "volume = SampleData.SampleDataLogic().downloadMRBrainTumor1()\n",
    "\n",
    "print(\"Volume size: {0}\".format(volume.GetImageData().GetDimensions()))"
   ]
  },
  {
   "cell_type": "code",
   "execution_count": 5,
   "id": "3bbb8991-2011-4ca0-a347-745a4e137da2",
   "metadata": {},
   "outputs": [],
   "source": [
    "t0 = volume\n",
    "t1 = SampleData.SampleDataLogic().downloadMRBrainTumor2()"
   ]
  },
  {
   "cell_type": "code",
   "execution_count": 6,
   "id": "74f0516d-c1fa-4260-9cc3-a50f557dc391",
   "metadata": {},
   "outputs": [],
   "source": [
    "shNode = slicer.vtkMRMLSubjectHierarchyNode.GetSubjectHierarchyNode(slicer.mrmlScene)"
   ]
  },
  {
   "cell_type": "code",
   "execution_count": 7,
   "id": "50c3e1d7-7acd-4dcd-b989-b079d9c23df6",
   "metadata": {},
   "outputs": [],
   "source": [
    "parametersRigid = {}\n",
    "parametersRigid[\"fixedVolume\"] = t0.GetID()\n",
    "parametersRigid[\"movingVolume\"] = t1.GetID()"
   ]
  },
  {
   "cell_type": "code",
   "execution_count": 8,
   "id": "2ae86a1e-96d7-45b5-8453-31a5f8e5b06e",
   "metadata": {},
   "outputs": [
    {
     "data": {
      "text/plain": [
       "<MRMLCorePython.vtkMRMLLinearTransformNode(0x00000264CCF7FFD0) at 0x00000264CE3A4EE0>"
      ]
     },
     "execution_count": 8,
     "metadata": {},
     "output_type": "execute_result"
    }
   ],
   "source": [
    "linearTransform = slicer.vtkMRMLLinearTransformNode()\n",
    "linearTransform.SetName('t12t0Rigid')\n",
    "slicer.mrmlScene.AddNode( linearTransform )"
   ]
  },
  {
   "cell_type": "code",
   "execution_count": 9,
   "id": "85227f02-1ed8-464b-b0bb-6f152821fbf8",
   "metadata": {},
   "outputs": [],
   "source": [
    "parametersRigid[\"linearTransform\"] = linearTransform.GetID()\n",
    "parametersRigid[\"useRigid\"] = True\n",
    "parametersRigid[\"samplingPercentage\"] = 0.0002"
   ]
  },
  {
   "cell_type": "code",
   "execution_count": 10,
   "id": "a92e81f7-1c3d-4643-b048-947bf614efed",
   "metadata": {},
   "outputs": [],
   "source": [
    "cliBrainsFitRigidNode = None\n",
    "# cliBrainsFitRigidNode = slicer.cli.run(brainsFit, None, parametersRigid)\n",
    "cliBrainsFitRigidNode = slicer.cli.runSync(brainsFit, None, parametersRigid)\n",
    "waitCount = 0\n",
    "delayMs =700\n",
    "while cliBrainsFitRigidNode.GetStatusString() != 'Completed' and waitCount < 200:\n",
    "         slicer.util.delayDisplay( \"Register Day 2 CT to Day 1 CT using rigid registration... %d\" % waitCount, delayMs )\n",
    "         waitCount += 1\n",
    "slicer.util.delayDisplay(\"Register Day 2 CT to Day 1 CT using rigid registration finished\",delayMs)"
   ]
  },
  {
   "cell_type": "code",
   "execution_count": 11,
   "id": "e0c3e1fc-130c-4f5c-8532-29a6179d1b97",
   "metadata": {},
   "outputs": [
    {
     "data": {
      "text/plain": [
       "{'fixedVolume': 'vtkMRMLScalarVolumeNode1',\n",
       " 'movingVolume': 'vtkMRMLScalarVolumeNode2',\n",
       " 'linearTransform': 'vtkMRMLLinearTransformNode4',\n",
       " 'useRigid': True,\n",
       " 'samplingPercentage': 0.0002}"
      ]
     },
     "execution_count": 11,
     "metadata": {},
     "output_type": "execute_result"
    }
   ],
   "source": [
    "parametersRigid"
   ]
  },
  {
   "cell_type": "code",
   "execution_count": 12,
   "id": "ba06b114-eece-4446-9674-1c71f86815d5",
   "metadata": {},
   "outputs": [
    {
     "data": {
      "text/plain": [
       "<MRMLCorePython.vtkMRMLLinearTransformNode(0x00000264CCF7FFD0) at 0x00000264CE3A4EE0>"
      ]
     },
     "execution_count": 12,
     "metadata": {},
     "output_type": "execute_result"
    }
   ],
   "source": [
    "# Question: how to get the value of this?? (Marc knows action point!)\n",
    "linearTransform"
   ]
  }
 ],
 "metadata": {
  "kernelspec": {
   "display_name": "Slicer 5.6",
   "language": "python",
   "name": "slicer-5.6"
  },
  "language_info": {
   "file_extension": ".py",
   "mimetype": "text/x-python",
   "name": "python",
   "version": "3.9.10"
  }
 },
 "nbformat": 4,
 "nbformat_minor": 5
}
